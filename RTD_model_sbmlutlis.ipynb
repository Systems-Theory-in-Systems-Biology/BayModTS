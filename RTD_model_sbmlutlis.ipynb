{
 "cells": [
  {
   "cell_type": "markdown",
   "id": "e5efbd95",
   "metadata": {},
   "source": [
    "## RTD function according to C Kreutz"
   ]
  },
  {
   "cell_type": "code",
   "execution_count": 1,
   "id": "25f86f62",
   "metadata": {
    "scrolled": false
   },
   "outputs": [
    {
     "data": {
      "text/html": [
       "<pre style=\"white-space:pre;overflow-x:auto;line-height:normal;font-family:Menlo,'DejaVu Sans Mono',consolas,'Courier New',monospace\"><span style=\"color: #c0c0c0; text-decoration-color: #c0c0c0\">─────────────────────────────────────────────────── </span>Create SBML<span style=\"color: #c0c0c0; text-decoration-color: #c0c0c0\"> ───────────────────────────────────────────────────</span>\n",
       "</pre>\n"
      ],
      "text/plain": [
       "\u001b[37m─────────────────────────────────────────────────── \u001b[0mCreate SBML\u001b[37m ───────────────────────────────────────────────────\u001b[0m\n"
      ]
     },
     "metadata": {},
     "output_type": "display_data"
    },
    {
     "data": {
      "text/html": [
       "<pre style=\"white-space:pre;overflow-x:auto;line-height:normal;font-family:Menlo,'DejaVu Sans Mono',consolas,'Courier New',monospace\"><span style=\"color: #000080; text-decoration-color: #000080\">INFO    </span> Create SBML for model <span style=\"color: #008000; text-decoration-color: #008000\">'RTD'</span>                                                                <a href=\"file:///home/basti/miniconda3/envs/sbmlutils/lib/python3.11/site-packages/sbmlutils/factory.py\" target=\"_blank\"><span style=\"color: #7f7f7f; text-decoration-color: #7f7f7f\">factory.py</span></a><span style=\"color: #7f7f7f; text-decoration-color: #7f7f7f\">:</span><a href=\"file:///home/basti/miniconda3/envs/sbmlutils/lib/python3.11/site-packages/sbmlutils/factory.py#3525\" target=\"_blank\"><span style=\"color: #7f7f7f; text-decoration-color: #7f7f7f\">3525</span></a>\n",
       "</pre>\n"
      ],
      "text/plain": [
       "\u001b[34mINFO    \u001b[0m Create SBML for model \u001b[32m'RTD'\u001b[0m                                                                \u001b]8;id=696407;file:///home/basti/miniconda3/envs/sbmlutils/lib/python3.11/site-packages/sbmlutils/factory.py\u001b\\\u001b[2mfactory.py\u001b[0m\u001b]8;;\u001b\\\u001b[2m:\u001b[0m\u001b]8;id=616411;file:///home/basti/miniconda3/envs/sbmlutils/lib/python3.11/site-packages/sbmlutils/factory.py#3525\u001b\\\u001b[2m3525\u001b[0m\u001b]8;;\u001b\\\n"
      ]
     },
     "metadata": {},
     "output_type": "display_data"
    },
    {
     "data": {
      "text/html": [
       "<pre style=\"white-space:pre;overflow-x:auto;line-height:normal;font-family:Menlo,'DejaVu Sans Mono',consolas,'Courier New',monospace\"><span style=\"color: #800000; text-decoration-color: #800000\">WARNING </span> <span style=\"color: #008000; text-decoration-color: #008000\">'sboTerm'</span> should be set on <span style=\"color: #008000; text-decoration-color: #008000\">'Parameter(y, response)'</span>                                         <a href=\"file:///home/basti/miniconda3/envs/sbmlutils/lib/python3.11/site-packages/sbmlutils/factory.py\" target=\"_blank\"><span style=\"color: #7f7f7f; text-decoration-color: #7f7f7f\">factory.py</span></a><span style=\"color: #7f7f7f; text-decoration-color: #7f7f7f\">:</span><a href=\"file:///home/basti/miniconda3/envs/sbmlutils/lib/python3.11/site-packages/sbmlutils/factory.py#465\" target=\"_blank\"><span style=\"color: #7f7f7f; text-decoration-color: #7f7f7f\">465</span></a>\n",
       "</pre>\n"
      ],
      "text/plain": [
       "\u001b[31mWARNING \u001b[0m \u001b[32m'sboTerm'\u001b[0m should be set on \u001b[32m'Parameter\u001b[0m\u001b[32m(\u001b[0m\u001b[32my, response\u001b[0m\u001b[32m)\u001b[0m\u001b[32m'\u001b[0m                                         \u001b]8;id=605210;file:///home/basti/miniconda3/envs/sbmlutils/lib/python3.11/site-packages/sbmlutils/factory.py\u001b\\\u001b[2mfactory.py\u001b[0m\u001b]8;;\u001b\\\u001b[2m:\u001b[0m\u001b]8;id=67116;file:///home/basti/miniconda3/envs/sbmlutils/lib/python3.11/site-packages/sbmlutils/factory.py#465\u001b\\\u001b[2m465\u001b[0m\u001b]8;;\u001b\\\n"
      ]
     },
     "metadata": {},
     "output_type": "display_data"
    },
    {
     "data": {
      "text/html": [
       "<pre style=\"white-space:pre;overflow-x:auto;line-height:normal;font-family:Menlo,'DejaVu Sans Mono',consolas,'Courier New',monospace\"><span style=\"color: #800000; text-decoration-color: #800000; font-weight: bold\">ERROR   </span> All SBML paths should be of type <span style=\"color: #008000; text-decoration-color: #008000\">'Path'</span>, but <span style=\"color: #008000; text-decoration-color: #008000\">'&lt;class '</span><span style=\"color: #000000; text-decoration-color: #000000\">str'</span><span style=\"font-weight: bold\">&gt;</span>' found for: RTD.xml                 <a href=\"file:///home/basti/miniconda3/envs/sbmlutils/lib/python3.11/site-packages/sbmlutils/io/sbml.py\" target=\"_blank\"><span style=\"color: #7f7f7f; text-decoration-color: #7f7f7f\">sbml.py</span></a><span style=\"color: #7f7f7f; text-decoration-color: #7f7f7f\">:</span><a href=\"file:///home/basti/miniconda3/envs/sbmlutils/lib/python3.11/site-packages/sbmlutils/io/sbml.py#44\" target=\"_blank\"><span style=\"color: #7f7f7f; text-decoration-color: #7f7f7f\">44</span></a>\n",
       "</pre>\n"
      ],
      "text/plain": [
       "\u001b[1;31mERROR   \u001b[0m All SBML paths should be of type \u001b[32m'Path'\u001b[0m, but \u001b[32m'\u001b[0m\u001b[32m<\u001b[0m\u001b[32mclass\u001b[0m\u001b[32m '\u001b[0m\u001b[39mstr'\u001b[0m\u001b[1m>\u001b[0m' found for: RTD.xml                 \u001b]8;id=910282;file:///home/basti/miniconda3/envs/sbmlutils/lib/python3.11/site-packages/sbmlutils/io/sbml.py\u001b\\\u001b[2msbml.py\u001b[0m\u001b]8;;\u001b\\\u001b[2m:\u001b[0m\u001b]8;id=249079;file:///home/basti/miniconda3/envs/sbmlutils/lib/python3.11/site-packages/sbmlutils/io/sbml.py#44\u001b\\\u001b[2m44\u001b[0m\u001b]8;;\u001b\\\n"
      ]
     },
     "metadata": {},
     "output_type": "display_data"
    },
    {
     "data": {
      "text/html": [
       "<pre style=\"white-space:pre;overflow-x:auto;line-height:normal;font-family:Menlo,'DejaVu Sans Mono',consolas,'Courier New',monospace\">\n",
       "</pre>\n"
      ],
      "text/plain": [
       "\n"
      ]
     },
     "metadata": {},
     "output_type": "display_data"
    },
    {
     "data": {
      "text/html": [
       "<pre style=\"white-space:pre;overflow-x:auto;line-height:normal;font-family:Menlo,'DejaVu Sans Mono',consolas,'Courier New',monospace\"><span style=\"color: #008000; text-decoration-color: #008000\">────────────────────────────────────────────────── </span>Validate SBML<span style=\"color: #008000; text-decoration-color: #008000\"> ──────────────────────────────────────────────────</span>\n",
       "</pre>\n"
      ],
      "text/plain": [
       "\u001b[32m────────────────────────────────────────────────── \u001b[0mValidate SBML\u001b[32m ──────────────────────────────────────────────────\u001b[0m\n"
      ]
     },
     "metadata": {},
     "output_type": "display_data"
    },
    {
     "data": {
      "text/html": [
       "<pre style=\"white-space:pre;overflow-x:auto;line-height:normal;font-family:Menlo,'DejaVu Sans Mono',consolas,'Courier New',monospace\"><span style=\"color: #008000; text-decoration-color: #008000\">RTD.xml</span>\n",
       "<span style=\"color: #008000; text-decoration-color: #008000\">valid                    : TRUE</span>\n",
       "<span style=\"color: #008000; text-decoration-color: #008000\">check time </span><span style=\"color: #008000; text-decoration-color: #008000; font-weight: bold\">(</span><span style=\"color: #008000; text-decoration-color: #008000\">s</span><span style=\"color: #008000; text-decoration-color: #008000; font-weight: bold\">)</span><span style=\"color: #008000; text-decoration-color: #008000\">           : </span><span style=\"color: #008080; text-decoration-color: #008080; font-weight: bold\">0.008</span>\n",
       "</pre>\n"
      ],
      "text/plain": [
       "\u001b[32mRTD.xml\u001b[0m\n",
       "\u001b[32mvalid                    : TRUE\u001b[0m\n",
       "\u001b[32mcheck time \u001b[0m\u001b[1;32m(\u001b[0m\u001b[32ms\u001b[0m\u001b[1;32m)\u001b[0m\u001b[32m           : \u001b[0m\u001b[1;36m0.008\u001b[0m\n"
      ]
     },
     "metadata": {},
     "output_type": "display_data"
    },
    {
     "data": {
      "text/html": [
       "<pre style=\"white-space:pre;overflow-x:auto;line-height:normal;font-family:Menlo,'DejaVu Sans Mono',consolas,'Courier New',monospace\"><span style=\"color: #008000; text-decoration-color: #008000\">───────────────────────────────────────────────────────────────────────────────────────────────────────────────────</span>\n",
       "</pre>\n"
      ],
      "text/plain": [
       "\u001b[32m───────────────────────────────────────────────────────────────────────────────────────────────────────────────────\u001b[0m\n"
      ]
     },
     "metadata": {},
     "output_type": "display_data"
    },
    {
     "data": {
      "text/html": [
       "<pre style=\"white-space:pre;overflow-x:auto;line-height:normal;font-family:Menlo,'DejaVu Sans Mono',consolas,'Courier New',monospace\">\n",
       "</pre>\n"
      ],
      "text/plain": [
       "\n"
      ]
     },
     "metadata": {},
     "output_type": "display_data"
    },
    {
     "data": {
      "text/html": [
       "<pre style=\"white-space:pre;overflow-x:auto;line-height:normal;font-family:Menlo,'DejaVu Sans Mono',consolas,'Courier New',monospace\"><span style=\"color: #c0c0c0; text-decoration-color: #c0c0c0\">───────────────────────────────────────────────────────────────────────────────────────────────────────────────────</span>\n",
       "</pre>\n"
      ],
      "text/plain": [
       "\u001b[37m───────────────────────────────────────────────────────────────────────────────────────────────────────────────────\u001b[0m\n"
      ]
     },
     "metadata": {},
     "output_type": "display_data"
    },
    {
     "data": {
      "text/html": [
       "<pre style=\"white-space:pre;overflow-x:auto;line-height:normal;font-family:Menlo,'DejaVu Sans Mono',consolas,'Courier New',monospace\"><span style=\"color: #c0c0c0; text-decoration-color: #c0c0c0\">───────────────────────────────────────────────────────────────────────────────────────────────────────────────────</span>\n",
       "</pre>\n"
      ],
      "text/plain": [
       "\u001b[37m───────────────────────────────────────────────────────────────────────────────────────────────────────────────────\u001b[0m\n"
      ]
     },
     "metadata": {},
     "output_type": "display_data"
    },
    {
     "data": {
      "text/html": [
       "<pre style=\"white-space:pre;overflow-x:auto;line-height:normal;font-family:Menlo,'DejaVu Sans Mono',consolas,'Courier New',monospace\"><span style=\"color: #800000; text-decoration-color: #800000; font-weight: bold\">ERROR   </span> Could not connect to a running Cytoscape instance. Please start a Cytoscape instance       <a href=\"file:///home/basti/miniconda3/envs/sbmlutils/lib/python3.11/site-packages/sbmlutils/cytoscape.py\" target=\"_blank\"><span style=\"color: #7f7f7f; text-decoration-color: #7f7f7f\">cytoscape.py</span></a><span style=\"color: #7f7f7f; text-decoration-color: #7f7f7f\">:</span><a href=\"file:///home/basti/miniconda3/envs/sbmlutils/lib/python3.11/site-packages/sbmlutils/cytoscape.py#36\" target=\"_blank\"><span style=\"color: #7f7f7f; text-decoration-color: #7f7f7f\">36</span></a>\n",
       "         before execution.                                                                          <span style=\"color: #7f7f7f; text-decoration-color: #7f7f7f\">               </span>\n",
       "</pre>\n"
      ],
      "text/plain": [
       "\u001b[1;31mERROR   \u001b[0m Could not connect to a running Cytoscape instance. Please start a Cytoscape instance       \u001b]8;id=866224;file:///home/basti/miniconda3/envs/sbmlutils/lib/python3.11/site-packages/sbmlutils/cytoscape.py\u001b\\\u001b[2mcytoscape.py\u001b[0m\u001b]8;;\u001b\\\u001b[2m:\u001b[0m\u001b]8;id=948763;file:///home/basti/miniconda3/envs/sbmlutils/lib/python3.11/site-packages/sbmlutils/cytoscape.py#36\u001b\\\u001b[2m36\u001b[0m\u001b]8;;\u001b\\\n",
       "         before execution.                                                                          \u001b[2m               \u001b[0m\n"
      ]
     },
     "metadata": {},
     "output_type": "display_data"
    }
   ],
   "source": [
    "# ----------------------------------------------------------------------\n",
    "# RTD without units\n",
    "# ----------------------------------------------------------------------\n",
    "\n",
    "\"\"\"PVL perfusion sampling model.\"\"\"\n",
    "from sbmlutils.cytoscape import visualize_sbml\n",
    "from sbmlutils.factory import *\n",
    "from sbmlutils.metadata import *\n",
    "\n",
    "\n",
    "\n",
    "mid = \"RTD\"\n",
    "version = 1\n",
    "\n",
    "_m = Model(\n",
    "    sid=f\"{mid}\",\n",
    "    name=\"Model for the Retarded transient dynamics with equal response times.\",\n",
    "    notes=f\"\"\"\n",
    "    Model of the Retarded Transient dynamics function of Clemens Kreutz.\n",
    "    In:\n",
    "    Frontiers in Physics: A New Approximation Approach for Transient Differential Equation Models\n",
    "    doi: https://doi.org/10.3389/fphy.2020.00070\n",
    "    \n",
    "    This model describes transient activation functions (no oscillations) with a transient and a sustained \n",
    "    activation term.\n",
    "    - Amplitutes A can be positive or negative\n",
    "  \n",
    "    \n",
    "    <a href=\"http://sbml.org\">SBML</a> format. \n",
    "\n",
    "    **version:** {version}\n",
    "\n",
    "    ## Changelog\n",
    "\n",
    "    **version 1**\n",
    "\n",
    "    - initial model \n",
    "    \"\"\",\n",
    "    creators=[\n",
    "        Creator(\n",
    "            familyName=\"Höpfl\",\n",
    "            givenName=\"Sebastian\",\n",
    "            email=\"sebastian.hoepfl@isa.uni-stuttgart.de\",\n",
    "            organization=\"University of Stuttgart, Institute for Stochastics and Applications\",\n",
    "        )\n",
    "    ]\n",
    "    \n",
    ")\n",
    "_m.functions = [\n",
    "    Function(\n",
    "        sid=\"time_trafo\",\n",
    "        name=\"Time transformation for the retarded response\",\n",
    "        value=\"lambda(time, Tshift, Trange, \"\n",
    "              \"1 * (log(power(10, (time*10 /Trange)) + power(10 , Tshift/1))\"\n",
    "              \" - log(1 + power(10, Tshift/1))))\",\n",
    "        sboTerm=SBO.SBO_0000474\n",
    "    )\n",
    "]\n",
    "\n",
    "_m.parameters.extend([\n",
    "    Parameter(sid=\"Asus\", value=1.0, name=\"Amplitude sustained response\", sboTerm=SBO.KINETIC_CONSTANT),\n",
    "    Parameter(sid=\"Atrans\", value=1.0, name=\"Amplitude transient response\", sboTerm=SBO.KINETIC_CONSTANT),\n",
    "    Parameter(sid=\"t1\", value=1.0, name=\"Sustained response time constant\", sboTerm=SBO.KINETIC_CONSTANT),\n",
    "    Parameter(sid=\"t11\", value=1.0, name=\"Transient response time constant\", sboTerm=SBO.KINETIC_CONSTANT),\n",
    "    Parameter(sid=\"t2\", value=3.0, name=\"Transient decay time constant\", sboTerm=SBO.KINETIC_CONSTANT),\n",
    "    Parameter(sid=\"p0\", value=0.1, name=\"Offset\", sboTerm=SBO.KINETIC_CONSTANT),\n",
    "    Parameter(sid=\"Tshift\", value=-2.0, name=\"Response time\", sboTerm=SBO.KINETIC_CONSTANT),\n",
    "    Parameter(sid=\"Trange\", value=5.0, name=\"Time span of the data\", sboTerm=SBO.KINETIC_CONSTANT)\n",
    "])\n",
    "\n",
    "_m.rules.extend([\n",
    "    AssignmentRule(\n",
    "        \"y\",\n",
    "        value=\"Asus  * (1 - exp(-time_trafo(time, Tshift, Trange)/t1)) \"\n",
    "              \"+ Atrans * (1 - exp(-time_trafo(time, Tshift, Trange)/t11)) * exp(-time_trafo(time, Tshift, Trange)/t2)\"\n",
    "              \" + p0\",\n",
    "        name=\"response\",\n",
    "        sboTerm=SBO.SBO_0000474\n",
    "    )\n",
    "])\n",
    "\n",
    "\n",
    "if __name__ == \"__main__\":\n",
    "\n",
    "    results = create_model(\n",
    "        filepath= f\"{mid}.xml\",\n",
    "        model=[\n",
    "            _m,\n",
    "        ],\n",
    "        sbml_level=3, sbml_version=2,\n",
    "        validation_options=ValidationOptions(units_consistency=False)\n",
    "    )\n",
    "    visualize_sbml(results.sbml_path, delete_session=False)\n"
   ]
  },
  {
   "cell_type": "code",
   "execution_count": 3,
   "id": "d5b67c7f",
   "metadata": {},
   "outputs": [
    {
     "data": {
      "text/html": [
       "<pre style=\"white-space:pre;overflow-x:auto;line-height:normal;font-family:Menlo,'DejaVu Sans Mono',consolas,'Courier New',monospace\"><span style=\"color: #c0c0c0; text-decoration-color: #c0c0c0\">─────────────────────────────────────────────────── </span>Create SBML<span style=\"color: #c0c0c0; text-decoration-color: #c0c0c0\"> ───────────────────────────────────────────────────</span>\n",
       "</pre>\n"
      ],
      "text/plain": [
       "\u001b[37m─────────────────────────────────────────────────── \u001b[0mCreate SBML\u001b[37m ───────────────────────────────────────────────────\u001b[0m\n"
      ]
     },
     "metadata": {},
     "output_type": "display_data"
    },
    {
     "ename": "AttributeError",
     "evalue": "'Model' object has no attribute '__pydantic_extra__'",
     "output_type": "error",
     "traceback": [
      "\u001b[0;31m---------------------------------------------------------------------------\u001b[0m",
      "\u001b[0;31mAttributeError\u001b[0m                            Traceback (most recent call last)",
      "Cell \u001b[0;32mIn[3], line 115\u001b[0m\n\u001b[1;32m    100\u001b[0m _m\u001b[39m.\u001b[39mrules\u001b[39m.\u001b[39mextend([\n\u001b[1;32m    101\u001b[0m     AssignmentRule(\n\u001b[1;32m    102\u001b[0m         \u001b[39m\"\u001b[39m\u001b[39my\u001b[39m\u001b[39m\"\u001b[39m,\n\u001b[0;32m   (...)\u001b[0m\n\u001b[1;32m    109\u001b[0m     )\n\u001b[1;32m    110\u001b[0m ])\n\u001b[1;32m    113\u001b[0m \u001b[39mif\u001b[39;00m \u001b[39m__name__\u001b[39m \u001b[39m==\u001b[39m \u001b[39m\"\u001b[39m\u001b[39m__main__\u001b[39m\u001b[39m\"\u001b[39m:\n\u001b[0;32m--> 115\u001b[0m     results \u001b[39m=\u001b[39m create_model(\n\u001b[1;32m    116\u001b[0m         filepath\u001b[39m=\u001b[39m \u001b[39mf\u001b[39m\u001b[39m\"\u001b[39m\u001b[39m{\u001b[39;00mmid\u001b[39m}\u001b[39;00m\u001b[39m.xml\u001b[39m\u001b[39m\"\u001b[39m,\n\u001b[1;32m    117\u001b[0m         model\u001b[39m=\u001b[39m[\n\u001b[1;32m    118\u001b[0m             _m,\n\u001b[1;32m    119\u001b[0m         ],\n\u001b[1;32m    120\u001b[0m         sbml_level\u001b[39m=\u001b[39m\u001b[39m3\u001b[39m, sbml_version\u001b[39m=\u001b[39m\u001b[39m2\u001b[39m,\n\u001b[1;32m    121\u001b[0m         validation_options\u001b[39m=\u001b[39mValidationOptions(units_consistency\u001b[39m=\u001b[39m\u001b[39mTrue\u001b[39;00m)\n\u001b[1;32m    122\u001b[0m     )\n\u001b[1;32m    123\u001b[0m     visualize_sbml(results\u001b[39m.\u001b[39msbml_path, delete_session\u001b[39m=\u001b[39m\u001b[39mFalse\u001b[39;00m)\n",
      "File \u001b[0;32m~/miniconda3/envs/sbmlutils/lib/python3.11/site-packages/sbmlutils/factory.py:3619\u001b[0m, in \u001b[0;36mcreate_model\u001b[0;34m(model, filepath, sbml_level, sbml_version, validate, validation_options, show_sbml, annotations)\u001b[0m\n\u001b[1;32m   3617\u001b[0m m: Model\n\u001b[1;32m   3618\u001b[0m \u001b[39mif\u001b[39;00m \u001b[39misinstance\u001b[39m(model, Iterable):\n\u001b[0;32m-> 3619\u001b[0m     m \u001b[39m=\u001b[39m Model\u001b[39m.\u001b[39mmerge_models(model)\n\u001b[1;32m   3620\u001b[0m \u001b[39melif\u001b[39;00m \u001b[39misinstance\u001b[39m(model, Model):\n\u001b[1;32m   3621\u001b[0m     m \u001b[39m=\u001b[39m model\n",
      "File \u001b[0;32m~/miniconda3/envs/sbmlutils/lib/python3.11/site-packages/sbmlutils/factory.py:3445\u001b[0m, in \u001b[0;36mModel.merge_models\u001b[0;34m(models)\u001b[0m\n\u001b[1;32m   3443\u001b[0m \u001b[39mfor\u001b[39;00m m2 \u001b[39min\u001b[39;00m models:\n\u001b[1;32m   3444\u001b[0m     \u001b[39mfor\u001b[39;00m key, value \u001b[39min\u001b[39;00m m2\u001b[39m.\u001b[39m\u001b[39m__dict__\u001b[39m\u001b[39m.\u001b[39mitems():\n\u001b[0;32m-> 3445\u001b[0m         kind \u001b[39m=\u001b[39m m2\u001b[39m.\u001b[39m_keys\u001b[39m.\u001b[39mget(key, \u001b[39mNone\u001b[39;00m)\n\u001b[1;32m   3446\u001b[0m         \u001b[39m# lists of higher modules are extended\u001b[39;00m\n\u001b[1;32m   3447\u001b[0m         \u001b[39mif\u001b[39;00m kind \u001b[39min\u001b[39;00m [\u001b[39mlist\u001b[39m, \u001b[39mtuple\u001b[39m]:\n\u001b[1;32m   3448\u001b[0m             \u001b[39m# create new list\u001b[39;00m\n",
      "File \u001b[0;32m~/miniconda3/envs/sbmlutils/lib/python3.11/site-packages/pydantic/main.py:711\u001b[0m, in \u001b[0;36mBaseModel.__getattr__\u001b[0;34m(self, item)\u001b[0m\n\u001b[1;32m    707\u001b[0m     \u001b[39mreturn\u001b[39;00m attribute\u001b[39m.\u001b[39m\u001b[39m__get__\u001b[39m(\u001b[39mself\u001b[39m, \u001b[39mtype\u001b[39m(\u001b[39mself\u001b[39m))  \u001b[39m# type: ignore\u001b[39;00m\n\u001b[1;32m    709\u001b[0m \u001b[39mtry\u001b[39;00m:\n\u001b[1;32m    710\u001b[0m     \u001b[39m# Note: self.__pydantic_private__ cannot be None if self.__private_attributes__ has items\u001b[39;00m\n\u001b[0;32m--> 711\u001b[0m     \u001b[39mreturn\u001b[39;00m \u001b[39mself\u001b[39m\u001b[39m.\u001b[39m__pydantic_private__[item]  \u001b[39m# type: ignore\u001b[39;00m\n\u001b[1;32m    712\u001b[0m \u001b[39mexcept\u001b[39;00m \u001b[39mKeyError\u001b[39;00m \u001b[39mas\u001b[39;00m exc:\n\u001b[1;32m    713\u001b[0m     \u001b[39mraise\u001b[39;00m \u001b[39mAttributeError\u001b[39;00m(\u001b[39mf\u001b[39m\u001b[39m'\u001b[39m\u001b[39m{\u001b[39;00m\u001b[39mtype\u001b[39m(\u001b[39mself\u001b[39m)\u001b[39m.\u001b[39m\u001b[39m__name__\u001b[39m\u001b[39m!r}\u001b[39;00m\u001b[39m object has no attribute \u001b[39m\u001b[39m{\u001b[39;00mitem\u001b[39m!r}\u001b[39;00m\u001b[39m'\u001b[39m) \u001b[39mfrom\u001b[39;00m \u001b[39mexc\u001b[39;00m\n",
      "File \u001b[0;32m~/miniconda3/envs/sbmlutils/lib/python3.11/site-packages/pydantic/main.py:715\u001b[0m, in \u001b[0;36mBaseModel.__getattr__\u001b[0;34m(self, item)\u001b[0m\n\u001b[1;32m    713\u001b[0m         \u001b[39mraise\u001b[39;00m \u001b[39mAttributeError\u001b[39;00m(\u001b[39mf\u001b[39m\u001b[39m'\u001b[39m\u001b[39m{\u001b[39;00m\u001b[39mtype\u001b[39m(\u001b[39mself\u001b[39m)\u001b[39m.\u001b[39m\u001b[39m__name__\u001b[39m\u001b[39m!r}\u001b[39;00m\u001b[39m object has no attribute \u001b[39m\u001b[39m{\u001b[39;00mitem\u001b[39m!r}\u001b[39;00m\u001b[39m'\u001b[39m) \u001b[39mfrom\u001b[39;00m \u001b[39mexc\u001b[39;00m\n\u001b[1;32m    714\u001b[0m \u001b[39melse\u001b[39;00m:\n\u001b[0;32m--> 715\u001b[0m     pydantic_extra \u001b[39m=\u001b[39m \u001b[39mobject\u001b[39m\u001b[39m.\u001b[39m\u001b[39m__getattribute__\u001b[39m(\u001b[39mself\u001b[39m, \u001b[39m'\u001b[39m\u001b[39m__pydantic_extra__\u001b[39m\u001b[39m'\u001b[39m)\n\u001b[1;32m    716\u001b[0m     \u001b[39mif\u001b[39;00m pydantic_extra \u001b[39mis\u001b[39;00m \u001b[39mnot\u001b[39;00m \u001b[39mNone\u001b[39;00m:\n\u001b[1;32m    717\u001b[0m         \u001b[39mtry\u001b[39;00m:\n",
      "\u001b[0;31mAttributeError\u001b[0m: 'Model' object has no attribute '__pydantic_extra__'"
     ]
    }
   ],
   "source": [
    "# ----------------------------------------------------------------------\n",
    "# RTD with units - input in mole and time unit = h\n",
    "# ----------------------------------------------------------------------\n",
    "\n",
    "\"\"\"PVL perfusion sampling model.\"\"\"\n",
    "from sbmlutils.cytoscape import visualize_sbml\n",
    "from sbmlutils.factory import *\n",
    "from sbmlutils.metadata import *\n",
    "\n",
    "\n",
    "class U(Units):\n",
    "    \"\"\"UnitDefinitions.\"\"\"\n",
    "    \n",
    "    hour = UnitDefinition(\"hour\")\n",
    "    mmole = UnitDefinition(\"mmole\")\n",
    "    min = UnitDefinition(\"min\")\n",
    "    mg = UnitDefinition(\"mg\")\n",
    "    m2 = UnitDefinition(\"m2\", \"meter^2\")\n",
    "    mM = UnitDefinition(\"mM\", \"mmole/liter\")\n",
    "    mmole_per_min = UnitDefinition(\"mmole_per_min\", \"mmole/min\")\n",
    "    mmole_per_min_l = UnitDefinition(\"mmole_per_min_l\", \"mmole/min/l\")\n",
    "    l_per_min = UnitDefinition(\"l_per_min\", \"l/min\")\n",
    "    per_min = UnitDefinition(\"per_min\", \"1/min\")\n",
    "    per_day = UnitDefinition(\"per_hour\", \"1/day\")\n",
    "    per_mmole = UnitDefinition(\"per_mmole\", \"1/mmole\")\n",
    "    mg_per_s_l = UnitDefinition(\"mg_per_s_l\", \"mg/s/l\")\n",
    "    g_per_mole = UnitDefinition(\"g_per_mole\", \"g/mole\")\n",
    "    min_per_hr = UnitDefinition(\"min_per_hr\", \"min/hour\")\n",
    "    liter_per_min = UnitDefinition(\"liter_per_min\", \"l/min\")\n",
    "    day = UnitDefinition(\"day\", \"day\")\n",
    "\n",
    "mid = \"RTD_units\"\n",
    "version = 1\n",
    "\n",
    "_m = Model(\n",
    "    sid=f\"{mid}\",\n",
    "    name=\"Model for the Retarded transient dynamics with equal response times.\",\n",
    "    notes=f\"\"\"\n",
    "    Model of the Retarded Transient dynamics function of Clemens Kreutz.\n",
    "    In:\n",
    "    Frontiers in Physics: A New Approximation Approach for Transient Differential Equation Models\n",
    "    doi: https://doi.org/10.3389/fphy.2020.00070\n",
    "    \n",
    "    This model describes transient activation functions (no oscillations) with a transient and a sustained \n",
    "    activation term.\n",
    "    - Amplitutes A can be positive or negative\n",
    "  \n",
    "    \n",
    "    <a href=\"http://sbml.org\">SBML</a> format. \n",
    "\n",
    "    **version:** {version}\n",
    "\n",
    "    ## Changelog\n",
    "\n",
    "    **version 1**\n",
    "\n",
    "    - initial model \n",
    "    \"\"\",\n",
    "    units=U,\n",
    "    model_units=ModelUnits(\n",
    "        time=U.hour,\n",
    "        extent=U.mole,  # extent and substance must fit y\n",
    "        substance=U.mole,\n",
    "        length=U.meter,\n",
    "        area=U.m2,\n",
    "        volume=U.liter,\n",
    "    ),\n",
    "    creators=[\n",
    "        Creator(\n",
    "            familyName=\"Höpfl\",\n",
    "            givenName=\"Sebastian\",\n",
    "            email=\"sebastian.hoepfl@isa.uni-stuttgart.de\",\n",
    "            organization=\"University of Stuttgart, Institute for Stochastics and Applications\",\n",
    "        )\n",
    "    ]\n",
    "    \n",
    ")\n",
    "_m.functions = [\n",
    "    Function(\n",
    "        sid=\"time_trafo\",  # [h]\n",
    "        name=\"Time transformation for the retarded response\",\n",
    "        value=\"lambda(time, Tshift, Trange, \"\n",
    "              \"1 hour * (log(power(10 dimensionless, (time*10 dimensionless/Trange)) + power(10 dimensionless, Tshift/(1 hour)))\"\n",
    "              \" - log(1 dimensionless + power(10 dimensionless, Tshift/(1 hour)))))\",\n",
    "        sboTerm=SBO.SBO_0000474\n",
    "    )\n",
    "]\n",
    "\n",
    "_m.parameters.extend([\n",
    "    Parameter(sid=\"Asus\", value=1.0, unit=U.mole, name=\"Amplitude sustained response\", sboTerm=SBO.KINETIC_CONSTANT),\n",
    "    Parameter(sid=\"Atrans\", value=1.0, unit=U.mole, name=\"Amplitude transient response\", sboTerm=SBO.KINETIC_CONSTANT),\n",
    "    Parameter(sid=\"t1\", value=1.0, unit=U.hour, name=\"Sustained response time constant\", sboTerm=SBO.KINETIC_CONSTANT),\n",
    "    Parameter(sid=\"t11\", value=1.0, unit=U.hour, name=\"Transient response time constant\", sboTerm=SBO.KINETIC_CONSTANT),\n",
    "    Parameter(sid=\"t2\", value=3.0, unit=U.hour, name=\"Transient decay time constant\", sboTerm=SBO.KINETIC_CONSTANT),\n",
    "    Parameter(sid=\"p0\", value=0.1, unit=U.mole, name=\"Offset\", sboTerm=SBO.KINETIC_CONSTANT),\n",
    "    Parameter(sid=\"Tshift\", value=-2.0, unit=U.hour, name=\"Response time\", sboTerm=SBO.KINETIC_CONSTANT),\n",
    "    Parameter(sid=\"Trange\", value=5.0, unit=U.hour, name=\"Time span of the data\", sboTerm=SBO.KINETIC_CONSTANT)\n",
    "])\n",
    "\n",
    "_m.rules.extend([\n",
    "    AssignmentRule(\n",
    "        \"y\",\n",
    "        value=\"Asus  * (1 dimensionless - exp(-time_trafo(time, Tshift, Trange)/t1)) \"\n",
    "              \"+ Atrans * (1 dimensionless - exp(-time_trafo(time, Tshift, Trange)/t11)) * exp(-time_trafo(time, Tshift, Trange)/t2)\"\n",
    "              \" + p0\",\n",
    "        name=\"response\",\n",
    "        unit=U.mole,\n",
    "        sboTerm=SBO.SBO_0000474\n",
    "    )\n",
    "])\n",
    "\n",
    "\n",
    "if __name__ == \"__main__\":\n",
    "\n",
    "    results = create_model(\n",
    "        filepath= f\"{mid}.xml\",\n",
    "        model=[\n",
    "            _m,\n",
    "        ],\n",
    "        sbml_level=3, sbml_version=2,\n",
    "        validation_options=ValidationOptions(units_consistency=True)\n",
    "    )\n",
    "    visualize_sbml(results.sbml_path, delete_session=False)\n"
   ]
  },
  {
   "cell_type": "code",
   "execution_count": 1,
   "id": "bc71e4b8",
   "metadata": {},
   "outputs": [
    {
     "name": "stderr",
     "output_type": "stream",
     "text": [
      "C:\\Users\\basti\\.conda\\envs\\sbmlutils\\lib\\site-packages\\pydantic\\_internal\\_fields.py:127: UserWarning: Field \"model_units\" has conflict with protected namespace \"model_\".\n",
      "\n",
      "You may be able to resolve this warning by setting `model_config['protected_namespaces'] = ()`.\n",
      "  warnings.warn(\n",
      "C:\\Users\\basti\\.conda\\envs\\sbmlutils\\lib\\site-packages\\pydantic\\_internal\\_fields.py:127: UserWarning: Field \"model_definitions\" has conflict with protected namespace \"model_\".\n",
      "\n",
      "You may be able to resolve this warning by setting `model_config['protected_namespaces'] = ()`.\n",
      "  warnings.warn(\n"
     ]
    },
    {
     "data": {
      "text/html": [
       "<pre style=\"white-space:pre;overflow-x:auto;line-height:normal;font-family:Menlo,'DejaVu Sans Mono',consolas,'Courier New',monospace\"><span style=\"color: #800000; text-decoration-color: #800000\">WARNING </span> Either initialAmount or initialConcentration should be set for species: `y`.               <a href=\"file://C:\\Users\\basti\\.conda\\envs\\sbmlutils\\lib\\site-packages\\sbmlutils\\factory.py\" target=\"_blank\"><span style=\"color: #7f7f7f; text-decoration-color: #7f7f7f\">factory.py</span></a><span style=\"color: #7f7f7f; text-decoration-color: #7f7f7f\">:</span><a href=\"file://C:\\Users\\basti\\.conda\\envs\\sbmlutils\\lib\\site-packages\\sbmlutils\\factory.py#1225\" target=\"_blank\"><span style=\"color: #7f7f7f; text-decoration-color: #7f7f7f\">1225</span></a>\n",
       "</pre>\n"
      ],
      "text/plain": [
       "\u001b[31mWARNING \u001b[0m Either initialAmount or initialConcentration should be set for species: `y`.               \u001b]8;id=1349;file://C:\\Users\\basti\\.conda\\envs\\sbmlutils\\lib\\site-packages\\sbmlutils\\factory.py\u001b\\\u001b[2mfactory.py\u001b[0m\u001b]8;;\u001b\\\u001b[2m:\u001b[0m\u001b]8;id=118580;file://C:\\Users\\basti\\.conda\\envs\\sbmlutils\\lib\\site-packages\\sbmlutils\\factory.py#1225\u001b\\\u001b[2m1225\u001b[0m\u001b]8;;\u001b\\\n"
      ]
     },
     "metadata": {},
     "output_type": "display_data"
    },
    {
     "data": {
      "text/html": [
       "<pre style=\"white-space:pre;overflow-x:auto;line-height:normal;font-family:Menlo,'DejaVu Sans Mono',consolas,'Courier New',monospace\"><span style=\"color: #c0c0c0; text-decoration-color: #c0c0c0\">─────────────────────────────────────────────────── </span>Create SBML<span style=\"color: #c0c0c0; text-decoration-color: #c0c0c0\"> ───────────────────────────────────────────────────</span>\n",
       "</pre>\n"
      ],
      "text/plain": [
       "\u001b[37m─────────────────────────────────────────────────── \u001b[0mCreate SBML\u001b[37m ───────────────────────────────────────────────────\u001b[0m\n"
      ]
     },
     "metadata": {},
     "output_type": "display_data"
    },
    {
     "data": {
      "text/html": [
       "<pre style=\"white-space:pre;overflow-x:auto;line-height:normal;font-family:Menlo,'DejaVu Sans Mono',consolas,'Courier New',monospace\"><span style=\"color: #000080; text-decoration-color: #000080\">INFO    </span> Create SBML for model <span style=\"color: #008000; text-decoration-color: #008000\">'RTD_identical_response_times'</span>                                       <a href=\"file://C:\\Users\\basti\\.conda\\envs\\sbmlutils\\lib\\site-packages\\sbmlutils\\factory.py\" target=\"_blank\"><span style=\"color: #7f7f7f; text-decoration-color: #7f7f7f\">factory.py</span></a><span style=\"color: #7f7f7f; text-decoration-color: #7f7f7f\">:</span><a href=\"file://C:\\Users\\basti\\.conda\\envs\\sbmlutils\\lib\\site-packages\\sbmlutils\\factory.py#3539\" target=\"_blank\"><span style=\"color: #7f7f7f; text-decoration-color: #7f7f7f\">3539</span></a>\n",
       "</pre>\n"
      ],
      "text/plain": [
       "\u001b[34mINFO    \u001b[0m Create SBML for model \u001b[32m'RTD_identical_response_times'\u001b[0m                                       \u001b]8;id=184125;file://C:\\Users\\basti\\.conda\\envs\\sbmlutils\\lib\\site-packages\\sbmlutils\\factory.py\u001b\\\u001b[2mfactory.py\u001b[0m\u001b]8;;\u001b\\\u001b[2m:\u001b[0m\u001b]8;id=862672;file://C:\\Users\\basti\\.conda\\envs\\sbmlutils\\lib\\site-packages\\sbmlutils\\factory.py#3539\u001b\\\u001b[2m3539\u001b[0m\u001b]8;;\u001b\\\n"
      ]
     },
     "metadata": {},
     "output_type": "display_data"
    },
    {
     "data": {
      "text/html": [
       "<pre style=\"white-space:pre;overflow-x:auto;line-height:normal;font-family:Menlo,'DejaVu Sans Mono',consolas,'Courier New',monospace\"><span style=\"color: #800000; text-decoration-color: #800000\">WARNING </span> <span style=\"color: #008000; text-decoration-color: #008000\">'name'</span> should be set on <span style=\"color: #008000; text-decoration-color: #008000\">'Compartment(C)'</span>                                                    <a href=\"file://C:\\Users\\basti\\.conda\\envs\\sbmlutils\\lib\\site-packages\\sbmlutils\\factory.py\" target=\"_blank\"><span style=\"color: #7f7f7f; text-decoration-color: #7f7f7f\">factory.py</span></a><span style=\"color: #7f7f7f; text-decoration-color: #7f7f7f\">:</span><a href=\"file://C:\\Users\\basti\\.conda\\envs\\sbmlutils\\lib\\site-packages\\sbmlutils\\factory.py#451\" target=\"_blank\"><span style=\"color: #7f7f7f; text-decoration-color: #7f7f7f\">451</span></a>\n",
       "</pre>\n"
      ],
      "text/plain": [
       "\u001b[31mWARNING \u001b[0m \u001b[32m'name'\u001b[0m should be set on \u001b[32m'Compartment\u001b[0m\u001b[32m(\u001b[0m\u001b[32mC\u001b[0m\u001b[32m)\u001b[0m\u001b[32m'\u001b[0m                                                    \u001b]8;id=812843;file://C:\\Users\\basti\\.conda\\envs\\sbmlutils\\lib\\site-packages\\sbmlutils\\factory.py\u001b\\\u001b[2mfactory.py\u001b[0m\u001b]8;;\u001b\\\u001b[2m:\u001b[0m\u001b]8;id=485112;file://C:\\Users\\basti\\.conda\\envs\\sbmlutils\\lib\\site-packages\\sbmlutils\\factory.py#451\u001b\\\u001b[2m451\u001b[0m\u001b]8;;\u001b\\\n"
      ]
     },
     "metadata": {},
     "output_type": "display_data"
    },
    {
     "data": {
      "text/html": [
       "<pre style=\"white-space:pre;overflow-x:auto;line-height:normal;font-family:Menlo,'DejaVu Sans Mono',consolas,'Courier New',monospace\"><span style=\"color: #800000; text-decoration-color: #800000\">WARNING </span> <span style=\"color: #008000; text-decoration-color: #008000\">'sboTerm'</span> should be set on <span style=\"color: #008000; text-decoration-color: #008000\">'Compartment(C)'</span>                                                 <a href=\"file://C:\\Users\\basti\\.conda\\envs\\sbmlutils\\lib\\site-packages\\sbmlutils\\factory.py\" target=\"_blank\"><span style=\"color: #7f7f7f; text-decoration-color: #7f7f7f\">factory.py</span></a><span style=\"color: #7f7f7f; text-decoration-color: #7f7f7f\">:</span><a href=\"file://C:\\Users\\basti\\.conda\\envs\\sbmlutils\\lib\\site-packages\\sbmlutils\\factory.py#476\" target=\"_blank\"><span style=\"color: #7f7f7f; text-decoration-color: #7f7f7f\">476</span></a>\n",
       "</pre>\n"
      ],
      "text/plain": [
       "\u001b[31mWARNING \u001b[0m \u001b[32m'sboTerm'\u001b[0m should be set on \u001b[32m'Compartment\u001b[0m\u001b[32m(\u001b[0m\u001b[32mC\u001b[0m\u001b[32m)\u001b[0m\u001b[32m'\u001b[0m                                                 \u001b]8;id=70805;file://C:\\Users\\basti\\.conda\\envs\\sbmlutils\\lib\\site-packages\\sbmlutils\\factory.py\u001b\\\u001b[2mfactory.py\u001b[0m\u001b]8;;\u001b\\\u001b[2m:\u001b[0m\u001b]8;id=124567;file://C:\\Users\\basti\\.conda\\envs\\sbmlutils\\lib\\site-packages\\sbmlutils\\factory.py#476\u001b\\\u001b[2m476\u001b[0m\u001b]8;;\u001b\\\n"
      ]
     },
     "metadata": {},
     "output_type": "display_data"
    },
    {
     "data": {
      "text/html": [
       "<pre style=\"white-space:pre;overflow-x:auto;line-height:normal;font-family:Menlo,'DejaVu Sans Mono',consolas,'Courier New',monospace\"><span style=\"color: #800000; text-decoration-color: #800000\">WARNING </span> <span style=\"color: #008000; text-decoration-color: #008000\">'name'</span> should be set on <span style=\"color: #008000; text-decoration-color: #008000\">'Species(y)'</span>                                                        <a href=\"file://C:\\Users\\basti\\.conda\\envs\\sbmlutils\\lib\\site-packages\\sbmlutils\\factory.py\" target=\"_blank\"><span style=\"color: #7f7f7f; text-decoration-color: #7f7f7f\">factory.py</span></a><span style=\"color: #7f7f7f; text-decoration-color: #7f7f7f\">:</span><a href=\"file://C:\\Users\\basti\\.conda\\envs\\sbmlutils\\lib\\site-packages\\sbmlutils\\factory.py#451\" target=\"_blank\"><span style=\"color: #7f7f7f; text-decoration-color: #7f7f7f\">451</span></a>\n",
       "</pre>\n"
      ],
      "text/plain": [
       "\u001b[31mWARNING \u001b[0m \u001b[32m'name'\u001b[0m should be set on \u001b[32m'Species\u001b[0m\u001b[32m(\u001b[0m\u001b[32my\u001b[0m\u001b[32m)\u001b[0m\u001b[32m'\u001b[0m                                                        \u001b]8;id=4409;file://C:\\Users\\basti\\.conda\\envs\\sbmlutils\\lib\\site-packages\\sbmlutils\\factory.py\u001b\\\u001b[2mfactory.py\u001b[0m\u001b]8;;\u001b\\\u001b[2m:\u001b[0m\u001b]8;id=384444;file://C:\\Users\\basti\\.conda\\envs\\sbmlutils\\lib\\site-packages\\sbmlutils\\factory.py#451\u001b\\\u001b[2m451\u001b[0m\u001b]8;;\u001b\\\n"
      ]
     },
     "metadata": {},
     "output_type": "display_data"
    },
    {
     "data": {
      "text/html": [
       "<pre style=\"white-space:pre;overflow-x:auto;line-height:normal;font-family:Menlo,'DejaVu Sans Mono',consolas,'Courier New',monospace\"><span style=\"color: #800000; text-decoration-color: #800000\">WARNING </span> <span style=\"color: #008000; text-decoration-color: #008000\">'sboTerm'</span> should be set on <span style=\"color: #008000; text-decoration-color: #008000\">'Species(y)'</span>                                                     <a href=\"file://C:\\Users\\basti\\.conda\\envs\\sbmlutils\\lib\\site-packages\\sbmlutils\\factory.py\" target=\"_blank\"><span style=\"color: #7f7f7f; text-decoration-color: #7f7f7f\">factory.py</span></a><span style=\"color: #7f7f7f; text-decoration-color: #7f7f7f\">:</span><a href=\"file://C:\\Users\\basti\\.conda\\envs\\sbmlutils\\lib\\site-packages\\sbmlutils\\factory.py#476\" target=\"_blank\"><span style=\"color: #7f7f7f; text-decoration-color: #7f7f7f\">476</span></a>\n",
       "</pre>\n"
      ],
      "text/plain": [
       "\u001b[31mWARNING \u001b[0m \u001b[32m'sboTerm'\u001b[0m should be set on \u001b[32m'Species\u001b[0m\u001b[32m(\u001b[0m\u001b[32my\u001b[0m\u001b[32m)\u001b[0m\u001b[32m'\u001b[0m                                                     \u001b]8;id=969440;file://C:\\Users\\basti\\.conda\\envs\\sbmlutils\\lib\\site-packages\\sbmlutils\\factory.py\u001b\\\u001b[2mfactory.py\u001b[0m\u001b]8;;\u001b\\\u001b[2m:\u001b[0m\u001b]8;id=126650;file://C:\\Users\\basti\\.conda\\envs\\sbmlutils\\lib\\site-packages\\sbmlutils\\factory.py#476\u001b\\\u001b[2m476\u001b[0m\u001b]8;;\u001b\\\n"
      ]
     },
     "metadata": {},
     "output_type": "display_data"
    },
    {
     "data": {
      "text/html": [
       "<pre style=\"white-space:pre;overflow-x:auto;line-height:normal;font-family:Menlo,'DejaVu Sans Mono',consolas,'Courier New',monospace\"><span style=\"color: #800000; text-decoration-color: #800000; font-weight: bold\">ERROR   </span> All SBML paths should be of type <span style=\"color: #008000; text-decoration-color: #008000\">'Path'</span>, but <span style=\"color: #008000; text-decoration-color: #008000\">'&lt;class '</span><span style=\"color: #000000; text-decoration-color: #000000\">str'</span><span style=\"font-weight: bold\">&gt;</span>' found for:                         <a href=\"file://C:\\Users\\basti\\.conda\\envs\\sbmlutils\\lib\\site-packages\\sbmlutils\\io\\sbml.py\" target=\"_blank\"><span style=\"color: #7f7f7f; text-decoration-color: #7f7f7f\">sbml.py</span></a><span style=\"color: #7f7f7f; text-decoration-color: #7f7f7f\">:</span><a href=\"file://C:\\Users\\basti\\.conda\\envs\\sbmlutils\\lib\\site-packages\\sbmlutils\\io\\sbml.py#44\" target=\"_blank\"><span style=\"color: #7f7f7f; text-decoration-color: #7f7f7f\">44</span></a>\n",
       "         RTD_identical_response_times.xml                                                                <span style=\"color: #7f7f7f; text-decoration-color: #7f7f7f\">          </span>\n",
       "</pre>\n"
      ],
      "text/plain": [
       "\u001b[1;31mERROR   \u001b[0m All SBML paths should be of type \u001b[32m'Path'\u001b[0m, but \u001b[32m'\u001b[0m\u001b[32m<\u001b[0m\u001b[32mclass\u001b[0m\u001b[32m '\u001b[0m\u001b[39mstr'\u001b[0m\u001b[1m>\u001b[0m' found for:                         \u001b]8;id=723716;file://C:\\Users\\basti\\.conda\\envs\\sbmlutils\\lib\\site-packages\\sbmlutils\\io\\sbml.py\u001b\\\u001b[2msbml.py\u001b[0m\u001b]8;;\u001b\\\u001b[2m:\u001b[0m\u001b]8;id=721723;file://C:\\Users\\basti\\.conda\\envs\\sbmlutils\\lib\\site-packages\\sbmlutils\\io\\sbml.py#44\u001b\\\u001b[2m44\u001b[0m\u001b]8;;\u001b\\\n",
       "         RTD_identical_response_times.xml                                                                \u001b[2m          \u001b[0m\n"
      ]
     },
     "metadata": {},
     "output_type": "display_data"
    },
    {
     "data": {
      "text/html": [
       "<pre style=\"white-space:pre;overflow-x:auto;line-height:normal;font-family:Menlo,'DejaVu Sans Mono',consolas,'Courier New',monospace\">\n",
       "</pre>\n"
      ],
      "text/plain": [
       "\n"
      ]
     },
     "metadata": {},
     "output_type": "display_data"
    },
    {
     "data": {
      "text/html": [
       "<pre style=\"white-space:pre;overflow-x:auto;line-height:normal;font-family:Menlo,'DejaVu Sans Mono',consolas,'Courier New',monospace\"><span style=\"color: #008000; text-decoration-color: #008000\">────────────────────────────────────────────────── </span>Validate SBML<span style=\"color: #008000; text-decoration-color: #008000\"> ──────────────────────────────────────────────────</span>\n",
       "</pre>\n"
      ],
      "text/plain": [
       "\u001b[32m────────────────────────────────────────────────── \u001b[0mValidate SBML\u001b[32m ──────────────────────────────────────────────────\u001b[0m\n"
      ]
     },
     "metadata": {},
     "output_type": "display_data"
    },
    {
     "data": {
      "text/html": [
       "<pre style=\"white-space:pre;overflow-x:auto;line-height:normal;font-family:Menlo,'DejaVu Sans Mono',consolas,'Courier New',monospace\"><span style=\"color: #008000; text-decoration-color: #008000\">RTD_identical_response_times.xml</span>\n",
       "<span style=\"color: #008000; text-decoration-color: #008000\">valid                    : TRUE</span>\n",
       "<span style=\"color: #008000; text-decoration-color: #008000\">check time </span><span style=\"color: #008000; text-decoration-color: #008000; font-weight: bold\">(</span><span style=\"color: #008000; text-decoration-color: #008000\">s</span><span style=\"color: #008000; text-decoration-color: #008000; font-weight: bold\">)</span><span style=\"color: #008000; text-decoration-color: #008000\">           : </span><span style=\"color: #008080; text-decoration-color: #008080; font-weight: bold\">0.011</span>\n",
       "</pre>\n"
      ],
      "text/plain": [
       "\u001b[32mRTD_identical_response_times.xml\u001b[0m\n",
       "\u001b[32mvalid                    : TRUE\u001b[0m\n",
       "\u001b[32mcheck time \u001b[0m\u001b[1;32m(\u001b[0m\u001b[32ms\u001b[0m\u001b[1;32m)\u001b[0m\u001b[32m           : \u001b[0m\u001b[1;36m0.011\u001b[0m\n"
      ]
     },
     "metadata": {},
     "output_type": "display_data"
    },
    {
     "data": {
      "text/html": [
       "<pre style=\"white-space:pre;overflow-x:auto;line-height:normal;font-family:Menlo,'DejaVu Sans Mono',consolas,'Courier New',monospace\"><span style=\"color: #008000; text-decoration-color: #008000\">───────────────────────────────────────────────────────────────────────────────────────────────────────────────────</span>\n",
       "</pre>\n"
      ],
      "text/plain": [
       "\u001b[32m───────────────────────────────────────────────────────────────────────────────────────────────────────────────────\u001b[0m\n"
      ]
     },
     "metadata": {},
     "output_type": "display_data"
    },
    {
     "data": {
      "text/html": [
       "<pre style=\"white-space:pre;overflow-x:auto;line-height:normal;font-family:Menlo,'DejaVu Sans Mono',consolas,'Courier New',monospace\">\n",
       "</pre>\n"
      ],
      "text/plain": [
       "\n"
      ]
     },
     "metadata": {},
     "output_type": "display_data"
    },
    {
     "data": {
      "text/html": [
       "<pre style=\"white-space:pre;overflow-x:auto;line-height:normal;font-family:Menlo,'DejaVu Sans Mono',consolas,'Courier New',monospace\"><span style=\"color: #c0c0c0; text-decoration-color: #c0c0c0\">───────────────────────────────────────────────────────────────────────────────────────────────────────────────────</span>\n",
       "</pre>\n"
      ],
      "text/plain": [
       "\u001b[37m───────────────────────────────────────────────────────────────────────────────────────────────────────────────────\u001b[0m\n"
      ]
     },
     "metadata": {},
     "output_type": "display_data"
    },
    {
     "data": {
      "text/html": [
       "<pre style=\"white-space:pre;overflow-x:auto;line-height:normal;font-family:Menlo,'DejaVu Sans Mono',consolas,'Courier New',monospace\"><span style=\"color: #c0c0c0; text-decoration-color: #c0c0c0\">───────────────────────────────────────────────────────────────────────────────────────────────────────────────────</span>\n",
       "</pre>\n"
      ],
      "text/plain": [
       "\u001b[37m───────────────────────────────────────────────────────────────────────────────────────────────────────────────────\u001b[0m\n"
      ]
     },
     "metadata": {},
     "output_type": "display_data"
    },
    {
     "data": {
      "text/html": [
       "<pre style=\"white-space:pre;overflow-x:auto;line-height:normal;font-family:Menlo,'DejaVu Sans Mono',consolas,'Courier New',monospace\"><span style=\"color: #800000; text-decoration-color: #800000; font-weight: bold\">ERROR   </span> Could not connect to a running Cytoscape instance. Please start a Cytoscape instance       <a href=\"file://C:\\Users\\basti\\.conda\\envs\\sbmlutils\\lib\\site-packages\\sbmlutils\\cytoscape.py\" target=\"_blank\"><span style=\"color: #7f7f7f; text-decoration-color: #7f7f7f\">cytoscape.py</span></a><span style=\"color: #7f7f7f; text-decoration-color: #7f7f7f\">:</span><a href=\"file://C:\\Users\\basti\\.conda\\envs\\sbmlutils\\lib\\site-packages\\sbmlutils\\cytoscape.py#36\" target=\"_blank\"><span style=\"color: #7f7f7f; text-decoration-color: #7f7f7f\">36</span></a>\n",
       "         before execution.                                                                          <span style=\"color: #7f7f7f; text-decoration-color: #7f7f7f\">               </span>\n",
       "</pre>\n"
      ],
      "text/plain": [
       "\u001b[1;31mERROR   \u001b[0m Could not connect to a running Cytoscape instance. Please start a Cytoscape instance       \u001b]8;id=891501;file://C:\\Users\\basti\\.conda\\envs\\sbmlutils\\lib\\site-packages\\sbmlutils\\cytoscape.py\u001b\\\u001b[2mcytoscape.py\u001b[0m\u001b]8;;\u001b\\\u001b[2m:\u001b[0m\u001b]8;id=968826;file://C:\\Users\\basti\\.conda\\envs\\sbmlutils\\lib\\site-packages\\sbmlutils\\cytoscape.py#36\u001b\\\u001b[2m36\u001b[0m\u001b]8;;\u001b\\\n",
       "         before execution.                                                                          \u001b[2m               \u001b[0m\n"
      ]
     },
     "metadata": {},
     "output_type": "display_data"
    }
   ],
   "source": [
    "# ----------------------------------------------------------------------\n",
    "# RTD without units - reduced (equal response times of transient and sustained response)\n",
    "# ----------------------------------------------------------------------\n",
    "\n",
    "\"\"\"PVL perfusion sampling model.\"\"\"\n",
    "from sbmlutils.cytoscape import visualize_sbml\n",
    "from sbmlutils.factory import *\n",
    "from sbmlutils.metadata import *\n",
    "\n",
    "\n",
    "\n",
    "mid = \"RTD_identical_response_times\"\n",
    "version = 1\n",
    "\n",
    "_m = Model(\n",
    "    sid=f\"{mid}\",\n",
    "    name=\"Reduced Model for the Retarded transient dynamics with equal response times.\",\n",
    "    notes=f\"\"\"\n",
    "    Reduced Model of the Retarded Transient dynamics function of Clemens Kreutz.\n",
    "    In:\n",
    "    Frontiers in Physics: A New Approximation Approach for Transient Differential Equation Models\n",
    "    doi: https://doi.org/10.3389/fphy.2020.00070\n",
    "    \n",
    "    This model describes transient activation functions (no oscillations) with a transient and a sustained \n",
    "    activation term.\n",
    "    - Amplitutes A can be positive or negative\n",
    "    \n",
    "    Reductions:\n",
    "    - Sustained and transient response times are equal\n",
    "    - Offset and Tshift can also be reduced via setting a fixed value in the PEtab parameter table\n",
    "  \n",
    "    \n",
    "    <a href=\"http://sbml.org\">SBML</a> format. \n",
    "\n",
    "    **version:** {version}\n",
    "\n",
    "    ## Changelog\n",
    "\n",
    "    **version 1**\n",
    "\n",
    "    - initial model \n",
    "    \"\"\",\n",
    "    creators=[\n",
    "        Creator(\n",
    "            familyName=\"Höpfl\",\n",
    "            givenName=\"Sebastian\",\n",
    "            email=\"sebastian.hoepfl@isa.uni-stuttgart.de\",\n",
    "            organization=\"University of Stuttgart, Institute for Stochastics and Applications\",\n",
    "        )\n",
    "    ]\n",
    "    \n",
    ")\n",
    "_m.compartments = [Compartment(sid=\"C\", value=1.0)]\n",
    "\n",
    "_m.species.extend([  # compartment and species to simulate with roadrunner\n",
    "    Species(sid='y', compartment='C')\n",
    "])\n",
    "\n",
    "_m.functions = [\n",
    "    Function(\n",
    "        sid=\"time_trafo\",\n",
    "        name=\"Time transformation for the retarded response\",\n",
    "        value=\"lambda(time, Tshift, Trange, \"\n",
    "              \"1 * (log(power(10, (time*10 /Trange)) + power(10 , Tshift/1))\"\n",
    "              \" - log(1 + power(10, Tshift/1))))\",\n",
    "        sboTerm=SBO.SBO_0000474\n",
    "    )\n",
    "]\n",
    "\n",
    "_m.parameters.extend([\n",
    "    Parameter(sid=\"Asus\", value=1.0, name=\"Amplitude sustained response\", sboTerm=SBO.KINETIC_CONSTANT),\n",
    "    Parameter(sid=\"Atrans\", value=1.0, name=\"Amplitude transient response\", sboTerm=SBO.KINETIC_CONSTANT),\n",
    "    Parameter(sid=\"t1\", value=1.0, name=\"Sustained AND transient response time constant\", sboTerm=SBO.KINETIC_CONSTANT),\n",
    "    Parameter(sid=\"t2\", value=3.0, name=\"Transient decay time constant\", sboTerm=SBO.KINETIC_CONSTANT),\n",
    "    Parameter(sid=\"p0\", value=0.1, name=\"Offset\", sboTerm=SBO.KINETIC_CONSTANT),\n",
    "    Parameter(sid=\"Tshift\", value=-2.0, name=\"Response time\", sboTerm=SBO.KINETIC_CONSTANT),\n",
    "    Parameter(sid=\"Trange\", value=5.0, name=\"Time span of the data\", sboTerm=SBO.KINETIC_CONSTANT)\n",
    "])\n",
    "\n",
    "_m.rules.extend([\n",
    "    AssignmentRule(\n",
    "        \"y\",\n",
    "        value=\"Asus  * (1 - exp(-time_trafo(time, Tshift, Trange)/t1)) \"\n",
    "              \"+ Atrans * (1 - exp(-time_trafo(time, Tshift, Trange)/t1)) * exp(-time_trafo(time, Tshift, Trange)/t2)\"\n",
    "              \" + p0\",\n",
    "        name=\"response\",\n",
    "        sboTerm=SBO.SBO_0000474\n",
    "    )\n",
    "])\n",
    "\n",
    "\n",
    "if __name__ == \"__main__\":\n",
    "\n",
    "    results = create_model(\n",
    "        filepath= f\"{mid}.xml\",\n",
    "        model=[\n",
    "            _m,\n",
    "        ],\n",
    "        sbml_level=3, sbml_version=2,\n",
    "        validation_options=ValidationOptions(units_consistency=False)\n",
    "    )\n",
    "    visualize_sbml(results.sbml_path, delete_session=False)\n"
   ]
  },
  {
   "cell_type": "markdown",
   "id": "26526b71",
   "metadata": {},
   "source": [
    "## RTD for EPI\n",
    "- without units\n",
    "- reduced model with equal response times (little parameters as possible)\n",
    "- estimation of p0 should be avoided as starting position only depends on p0, not on the other parameters\n",
    "- observed y is necessary for the use of eulerpi"
   ]
  },
  {
   "cell_type": "code",
   "execution_count": null,
   "id": "2cfd646c",
   "metadata": {},
   "outputs": [],
   "source": [
    "# ----------------------------------------------------------------------\n",
    "# Version with observed Species for eulerpi\n",
    "# RTD without units - reduced (equal response times of transient and sustained response)\n",
    "# ----------------------------------------------------------------------\n",
    "\n",
    "\"\"\"PVL perfusion sampling model.\"\"\"\n",
    "from sbmlutils.cytoscape import visualize_sbml\n",
    "from sbmlutils.factory import *\n",
    "from sbmlutils.metadata import *\n",
    "\n",
    "\n",
    "\n",
    "mid = \"RTD_identical_response_times_EPI\"\n",
    "version = 1\n",
    "\n",
    "_m = Model(\n",
    "    sid=f\"{mid}\",\n",
    "    name=\"Reduced Model for the Retarded transient dynamics with equal response times.\",\n",
    "    notes=f\"\"\"\n",
    "    Reduced Model of the Retarded Transient dynamics function of Clemens Kreutz.\n",
    "    In:\n",
    "    Frontiers in Physics: A New Approximation Approach for Transient Differential Equation Models\n",
    "    doi: https://doi.org/10.3389/fphy.2020.00070\n",
    "    \n",
    "    This model describes transient activation functions (no oscillations) with a transient and a sustained \n",
    "    activation term.\n",
    "    - Amplitutes A can be positive or negative\n",
    "    \n",
    "    Reductions:\n",
    "    - Sustained and transient response times are equal\n",
    "    - Offset and Tshift can also be reduced via setting a fixed value in the PEtab parameter table\n",
    "  \n",
    "    \n",
    "    <a href=\"http://sbml.org\">SBML</a> format. \n",
    "\n",
    "    **version:** {version}\n",
    "\n",
    "    ## Changelog\n",
    "\n",
    "    **version 1**\n",
    "\n",
    "    - initial model \n",
    "    \"\"\",\n",
    "    creators=[\n",
    "        Creator(\n",
    "            familyName=\"Höpfl\",\n",
    "            givenName=\"Sebastian\",\n",
    "            email=\"sebastian.hoepfl@isa.uni-stuttgart.de\",\n",
    "            organization=\"University of Stuttgart, Institute for Stochastics and Applications\",\n",
    "        )\n",
    "    ]\n",
    "    \n",
    ")\n",
    "_m.compartments = [Compartment(sid=\"C\", value=1.0)]\n",
    "_m.functions = [\n",
    "    Function(\n",
    "        sid=\"time_trafo\",\n",
    "        name=\"Time transformation for the retarded response\",\n",
    "        value=\"lambda(time, Tshift, Trange, \"\n",
    "              \"1 * (log(power(10, (time*10 /Trange)) + power(10 , Tshift/1))\"\n",
    "              \" - log(1 + power(10, Tshift/1))))\",\n",
    "        sboTerm=SBO.SBO_0000474\n",
    "    )\n",
    "]\n",
    "\n",
    "_m.parameters.extend([\n",
    "    Parameter(sid=\"Asus\", value=1.0, name=\"Amplitude sustained response\", sboTerm=SBO.KINETIC_CONSTANT),\n",
    "    Parameter(sid=\"Atrans\", value=1.0, name=\"Amplitude transient response\", sboTerm=SBO.KINETIC_CONSTANT),\n",
    "    Parameter(sid=\"t1\", value=1.0, name=\"Sustained AND transient response time constant\", sboTerm=SBO.KINETIC_CONSTANT),\n",
    "    Parameter(sid=\"t2\", value=3.0, name=\"Transient decay time constant\", sboTerm=SBO.KINETIC_CONSTANT),\n",
    "    Parameter(sid=\"p0\", value=0.1, name=\"Offset\", sboTerm=SBO.KINETIC_CONSTANT),\n",
    "    Parameter(sid=\"Tshift\", value=-2.0, name=\"Response time\", sboTerm=SBO.KINETIC_CONSTANT),\n",
    "    Parameter(sid=\"Trange\", value=5.0, name=\"Time span of the data\", sboTerm=SBO.KINETIC_CONSTANT)\n",
    "])\n",
    "\n",
    "_m.rules.extend([\n",
    "    AssignmentRule(\n",
    "        \"y\",\n",
    "        value=\"Asus  * (1 - exp(-time_trafo(time, Tshift, Trange)/t1)) \"\n",
    "              \"+ Atrans * (1 - exp(-time_trafo(time, Tshift, Trange)/t1)) * exp(-time_trafo(time, Tshift, Trange)/t2)\"\n",
    "              \" + p0\",\n",
    "        name=\"response\",\n",
    "        sboTerm=SBO.SBO_0000474\n",
    "    )\n",
    "])\n",
    "\n",
    "\n",
    "_m.species.extend([\n",
    "    Species(\n",
    "        sid=\"y_obs\",\n",
    "        name='observed y',\n",
    "        initialConcentration=0.0,\n",
    "        compartment='C'\n",
    "    )\n",
    "])\n",
    "\n",
    "_m.reactions.extend([\n",
    "        Reaction(sid=\"R1\", equation=\"-> y_obs\", formula=('y', None)\n",
    "                )\n",
    "])\n",
    "\n",
    "if __name__ == \"__main__\":\n",
    "\n",
    "    results = create_model(\n",
    "        filepath= f\"{mid}.xml\",\n",
    "        model=[\n",
    "            _m,\n",
    "        ],\n",
    "        sbml_level=3, sbml_version=2,\n",
    "        validation_options=ValidationOptions(units_consistency=False)\n",
    "    )\n",
    "    visualize_sbml(results.sbml_path, delete_session=False)\n"
   ]
  },
  {
   "cell_type": "code",
   "execution_count": null,
   "id": "f57f41aa",
   "metadata": {},
   "outputs": [],
   "source": [
    "# --------------------------------------------\n",
    "# Reduced model with identical response times\n",
    "# --------------------------------------------\n",
    "import tellurium as te\n",
    "\n",
    "serid = \"\"\"\n",
    "t_T := log10(10^(time*10/Trange)+10^Tshift)-log10(1+10^Tshift)\n",
    "\n",
    "\n",
    "y := Asus*(1-exp(-1*t_T/t1))+Atrans*(1-exp(-1*t_T/t1))*exp(-1*t_T/t2)+p0\n",
    "\n",
    "\n",
    "// Parameters\n",
    "Asus = 1\n",
    "Atrans = 1\n",
    "t1 = 1\n",
    "t2 = 1\n",
    "Tshift = -2\n",
    "Trange = 6\n",
    "p0 = 0\n",
    "\"\"\"\n",
    "\n",
    "model = te.loada(serid)\n",
    "\n",
    "model.exportToSBML('RTD_steatosis_identical_transient_sustained_response_time.sbml')"
   ]
  },
  {
   "cell_type": "code",
   "execution_count": null,
   "id": "74c17fdc",
   "metadata": {},
   "outputs": [],
   "source": []
  }
 ],
 "metadata": {
  "kernelspec": {
   "display_name": "Python 3 (ipykernel)",
   "language": "python",
   "name": "python3"
  },
  "language_info": {
   "codemirror_mode": {
    "name": "ipython",
    "version": 3
   },
   "file_extension": ".py",
   "mimetype": "text/x-python",
   "name": "python",
   "nbconvert_exporter": "python",
   "pygments_lexer": "ipython3",
   "version": "3.10.13"
  }
 },
 "nbformat": 4,
 "nbformat_minor": 5
}
